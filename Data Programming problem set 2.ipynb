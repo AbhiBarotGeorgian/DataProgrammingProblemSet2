{
 "cells": [
  {
   "cell_type": "markdown",
   "id": "0cb16c6c",
   "metadata": {},
   "source": [
    "# Question 1"
   ]
  },
  {
   "cell_type": "code",
   "execution_count": 1,
   "id": "35f192da",
   "metadata": {},
   "outputs": [],
   "source": [
    "a = 0\n",
    "\n",
    "def b():\n",
    "    global a\n",
    "    a = c(a)\n",
    "\n",
    "def c(a):\n",
    "    return a + 2"
   ]
  },
  {
   "cell_type": "code",
   "execution_count": 2,
   "id": "5729cb43",
   "metadata": {},
   "outputs": [
    {
     "data": {
      "text/plain": [
       "6"
      ]
     },
     "execution_count": 2,
     "metadata": {},
     "output_type": "execute_result"
    }
   ],
   "source": [
    "b()\n",
    "b()\n",
    "b()\n",
    "a"
   ]
  },
  {
   "cell_type": "markdown",
   "id": "1a68d5d6",
   "metadata": {},
   "source": [
    "#Explanation\n",
    "a is initally 0 \n",
    "b() -> a = 0 + 2 = 2\n",
    "b() -> a = 2 + 2 = 4\n",
    "b() -> a = 4 + 2 = 6\n",
    "when we call a. It will show the value of a as latest value as 6\n",
    "so a = 6"
   ]
  },
  {
   "cell_type": "markdown",
   "id": "68d30908",
   "metadata": {},
   "source": [
    "# Question 2"
   ]
  },
  {
   "cell_type": "code",
   "execution_count": 11,
   "id": "30d16d84",
   "metadata": {},
   "outputs": [],
   "source": [
    "#Question 2\n",
    "\n",
    "def file_length(file_name):\n",
    "    try:\n",
    "        file = open(file_name)\n",
    "        contents = file.read()\n",
    "        file.close()\n",
    "        print(len(contents))\n",
    "    \n",
    "    except FileNotFoundError:\n",
    "        print(\"File \" + format(file_name)+ \" Not found\")"
   ]
  },
  {
   "cell_type": "code",
   "execution_count": 12,
   "id": "3dc99c02",
   "metadata": {},
   "outputs": [
    {
     "name": "stdout",
     "output_type": "stream",
     "text": [
      "123\n",
      "File prog.py Not found\n"
     ]
    }
   ],
   "source": [
    "file_length('FileLength.txt')\n",
    "file_length('prog.py')"
   ]
  },
  {
   "cell_type": "markdown",
   "id": "2acdbaed",
   "metadata": {},
   "source": [
    "# Question 3"
   ]
  },
  {
   "cell_type": "code",
   "execution_count": 24,
   "id": "0a018c95",
   "metadata": {},
   "outputs": [],
   "source": [
    "class Marsupial:\n",
    "    \n",
    "    def __init__(self):\n",
    "        self.list = []\n",
    "    \n",
    "    def put_in_pouch(self, item):\n",
    "        self.list.append(item)\n",
    "        \n",
    "    def pouch_contents(self):\n",
    "        return self.list\n",
    "    \n",
    "class Kangaroo(Marsupial):\n",
    "    \n",
    "    def __init__(self, x, y):\n",
    "        Marsupial.__init__(self)\n",
    "        self.x = x\n",
    "        self.y = y\n",
    "        \n",
    "    def jump(self, dx, dy):\n",
    "        self.x += dx\n",
    "        self.y += dy\n",
    "        \n",
    "    def __str__(self):\n",
    "        return 'I am a Kangaroo located at coordinates ({}, {})'.format(self.x, self.y)\n",
    "    "
   ]
  },
  {
   "cell_type": "code",
   "execution_count": 25,
   "id": "a52c490c",
   "metadata": {
    "scrolled": true
   },
   "outputs": [
    {
     "name": "stdout",
     "output_type": "stream",
     "text": [
      "I am a Kangaroo located at coordinates (0, 0)\n"
     ]
    }
   ],
   "source": [
    "k = Kangaroo(0,0)\n",
    "\n",
    "print(k)"
   ]
  },
  {
   "cell_type": "code",
   "execution_count": 26,
   "id": "401b04e0",
   "metadata": {},
   "outputs": [
    {
     "name": "stdout",
     "output_type": "stream",
     "text": [
      "['doll', 'firetruck', 'kitten']\n"
     ]
    }
   ],
   "source": [
    "k.put_in_pouch('doll')\n",
    "k.put_in_pouch('firetruck')\n",
    "k.put_in_pouch('kitten')\n",
    "\n",
    "print(k.pouch_contents())"
   ]
  },
  {
   "cell_type": "code",
   "execution_count": 27,
   "id": "63ce8724",
   "metadata": {},
   "outputs": [
    {
     "name": "stdout",
     "output_type": "stream",
     "text": [
      "I am a Kangaroo located at coordinates (3, 0)\n"
     ]
    }
   ],
   "source": [
    "k.jump(1, 0)\n",
    "k.jump(1, 0)\n",
    "k.jump(1, 0)\n",
    "\n",
    "print(k)"
   ]
  },
  {
   "cell_type": "markdown",
   "id": "57df7c6c",
   "metadata": {},
   "source": [
    "# Question 4"
   ]
  },
  {
   "cell_type": "code",
   "execution_count": 13,
   "id": "d95255e9",
   "metadata": {},
   "outputs": [],
   "source": [
    "#question 4\n",
    "\n",
    "def Collatz(x):\n",
    "    \n",
    "    print(x)\n",
    "    if x % 2 == 0:\n",
    "        Collatz(x // 2)\n",
    "    elif x == 1:\n",
    "        return x\n",
    "    else:\n",
    "        Collatz(3 * x + 1)"
   ]
  },
  {
   "cell_type": "code",
   "execution_count": 14,
   "id": "45667060",
   "metadata": {},
   "outputs": [
    {
     "name": "stdout",
     "output_type": "stream",
     "text": [
      "1\n"
     ]
    },
    {
     "data": {
      "text/plain": [
       "1"
      ]
     },
     "execution_count": 14,
     "metadata": {},
     "output_type": "execute_result"
    }
   ],
   "source": [
    "Collatz(1)"
   ]
  },
  {
   "cell_type": "code",
   "execution_count": 15,
   "id": "d0e2d037",
   "metadata": {},
   "outputs": [
    {
     "name": "stdout",
     "output_type": "stream",
     "text": [
      "10\n",
      "5\n",
      "16\n",
      "8\n",
      "4\n",
      "2\n",
      "1\n"
     ]
    }
   ],
   "source": [
    "Collatz(10)"
   ]
  },
  {
   "cell_type": "markdown",
   "id": "e5c8b1f0",
   "metadata": {},
   "source": [
    "# Question 5"
   ]
  },
  {
   "cell_type": "code",
   "execution_count": 38,
   "id": "3c23eada",
   "metadata": {},
   "outputs": [],
   "source": [
    "def Binary(n):\n",
    "    if n < 2:\n",
    "        print(n)\n",
    "    else:\n",
    "        Binary(n // 2)\n",
    "        print(n % 2)"
   ]
  },
  {
   "cell_type": "code",
   "execution_count": 39,
   "id": "b3c9643b",
   "metadata": {},
   "outputs": [
    {
     "name": "stdout",
     "output_type": "stream",
     "text": [
      "0\n"
     ]
    }
   ],
   "source": [
    "Binary(0)"
   ]
  },
  {
   "cell_type": "code",
   "execution_count": 40,
   "id": "42730c08",
   "metadata": {},
   "outputs": [
    {
     "name": "stdout",
     "output_type": "stream",
     "text": [
      "1\n"
     ]
    }
   ],
   "source": [
    "Binary(1)"
   ]
  },
  {
   "cell_type": "code",
   "execution_count": 41,
   "id": "727d04bc",
   "metadata": {},
   "outputs": [
    {
     "name": "stdout",
     "output_type": "stream",
     "text": [
      "1\n",
      "1\n"
     ]
    }
   ],
   "source": [
    "Binary(3)"
   ]
  },
  {
   "cell_type": "code",
   "execution_count": 42,
   "id": "c3c218a7",
   "metadata": {},
   "outputs": [
    {
     "name": "stdout",
     "output_type": "stream",
     "text": [
      "1\n",
      "0\n",
      "0\n",
      "1\n"
     ]
    }
   ],
   "source": [
    "Binary(9)"
   ]
  },
  {
   "cell_type": "markdown",
   "id": "529dd888",
   "metadata": {},
   "source": [
    "# Question 6"
   ]
  },
  {
   "cell_type": "code",
   "execution_count": 55,
   "id": "fd4e9b4d",
   "metadata": {},
   "outputs": [],
   "source": [
    "from urllib.parse import urljoin\n",
    "from html.parser import HTMLParser"
   ]
  },
  {
   "cell_type": "code",
   "execution_count": 56,
   "id": "75546c71",
   "metadata": {},
   "outputs": [],
   "source": [
    "class HeadingParser(HTMLParser):\n",
    "    def tags(self, tag, attrs):\n",
    "        if tag == \"h1\":\n",
    "            self.headerFlag = True\n",
    "            self.indent = 0\n",
    "        elif tag == \"h2\":\n",
    "            self.headerFlag = True\n",
    "            self.indent = 1\n",
    "        elif tag == \"h3\":\n",
    "            self.headerFlag = True\n",
    "            self.indent = 2\n",
    "        elif tag == \"h4\":\n",
    "            self.headerFlag = True\n",
    "            self.indent = 3\n",
    "        elif tag == \"h5\":\n",
    "            self.headerFlag = True\n",
    "            self.indent = 4\n",
    "        elif tag == \"h6\":\n",
    "            self.headerFlag = True\n",
    "            self.indent = 5\n",
    "        else:\n",
    "            self.headerFlag = False\n",
    "            self.indent = 0\n",
    "        \n",
    "    def tags2(self,tag,attrs):\n",
    "        if tag in [\"h1\",\"h2\",\"h3\",\"h4\",\"h5\",\"h6\"]:\n",
    "            self.headerFlag = True\n",
    "        "
   ]
  },
  {
   "cell_type": "code",
   "execution_count": 57,
   "id": "06469f41",
   "metadata": {},
   "outputs": [],
   "source": [
    "infile = open('w3c.html')\n",
    "content = infile.read()\n",
    "infile.close()\n",
    "hp = HeadingParser()\n",
    "hp.feed(content)"
   ]
  },
  {
   "cell_type": "markdown",
   "id": "61ba74c2",
   "metadata": {},
   "source": [
    "# Quesion 7"
   ]
  },
  {
   "cell_type": "code",
   "execution_count": 58,
   "id": "a8ddf945",
   "metadata": {},
   "outputs": [],
   "source": [
    "from urllib.request import urlopen\n",
    "from urllib.parse import urljoin\n",
    "from html.parser import HTMLParser"
   ]
  },
  {
   "cell_type": "code",
   "execution_count": 59,
   "id": "f8888e92",
   "metadata": {},
   "outputs": [],
   "source": [
    "def webdir(url):\n",
    "    print('http://reed.cs.depaul.edu/lperkovic/csc242/test1.html', 2, 0, url)\n",
    "    \n",
    "    content = urlopen(url).read().decode()\n",
    "    collector  = Collector(url)\n",
    "    collector.feed(content)\n",
    "    url_link = collector.getLinks() \n",
    "    print('\\n{:45} {:10}'.format('URL', 'link'))\n",
    "    \n",
    "    for link in url_link:\n",
    "        print('{:45} {:10}'.format(url, link))\n",
    "    return url_link"
   ]
  },
  {
   "cell_type": "markdown",
   "id": "935dc1a0",
   "metadata": {},
   "source": [
    "# Quesion 8"
   ]
  },
  {
   "cell_type": "code",
   "execution_count": null,
   "id": "ba3e6f87",
   "metadata": {},
   "outputs": [],
   "source": [
    "#Dataset name as table \n",
    "\n",
    "a) SELECT Temperature() \n",
    "   FROM table:\n",
    "\n",
    "b) SELECT DISTINCT(city) \n",
    "   FROM table:\n",
    "\n",
    "c) SELECT * FROM table\n",
    "    WHERE Country = 'Inida';\n",
    "\n",
    "d) SELECT * FROM table\n",
    "    WHERE season = 'Fall':\n",
    "    \n",
    "e) SELECT city, country, Season\n",
    "    FROM table\n",
    "    WHERE AVG(Rainfall(mm)) between 200 and 400;\n",
    "    \n",
    "f) SELECT city,country,Season\n",
    "    FROM table\n",
    "    WHERE AVG(Temperature) > 20\n",
    "    GROUP BY Season = \"Fall\";\n",
    "\n",
    "G) SELECT SUM(Rainfall(mm))\n",
    "    WHERE city = 'Cairo';\n",
    "    \n",
    "H) SELECT SUM(Rainfall(mm)), Season\n",
    "    FROM table\n",
    "    GROUP BY(Season);\n",
    "\n"
   ]
  },
  {
   "cell_type": "markdown",
   "id": "889e1e06",
   "metadata": {},
   "source": [
    "# Question 9"
   ]
  },
  {
   "cell_type": "code",
   "execution_count": 43,
   "id": "588ee749",
   "metadata": {},
   "outputs": [],
   "source": [
    "words = ['The', 'quick', 'brown', 'fox', 'jumps', 'over', 'the', 'lazy', 'dog']"
   ]
  },
  {
   "cell_type": "code",
   "execution_count": 44,
   "id": "18f89d76",
   "metadata": {},
   "outputs": [
    {
     "name": "stdout",
     "output_type": "stream",
     "text": [
      "['THE', 'QUICK', 'BROWN', 'FOX', 'JUMPS', 'OVER', 'THE', 'LAZY', 'DOG']\n"
     ]
    }
   ],
   "source": [
    "print([x.upper() for x in words])"
   ]
  },
  {
   "cell_type": "code",
   "execution_count": 45,
   "id": "97abc566",
   "metadata": {},
   "outputs": [
    {
     "name": "stdout",
     "output_type": "stream",
     "text": [
      "['the', 'quick', 'brown', 'fox', 'jumps', 'over', 'the', 'lazy', 'dog']\n"
     ]
    }
   ],
   "source": [
    "print([x.lower() for x in words])"
   ]
  },
  {
   "cell_type": "code",
   "execution_count": 46,
   "id": "9cb028dd",
   "metadata": {},
   "outputs": [
    {
     "name": "stdout",
     "output_type": "stream",
     "text": [
      "[3, 5, 5, 3, 5, 4, 3, 4, 3]\n"
     ]
    }
   ],
   "source": [
    "print([len(x) for x in words])"
   ]
  },
  {
   "cell_type": "code",
   "execution_count": 47,
   "id": "d131126e",
   "metadata": {},
   "outputs": [
    {
     "name": "stdout",
     "output_type": "stream",
     "text": [
      "[['THE', 'the', 3], ['QUICK', 'quick', 5], ['BROWN', 'brown', 5], ['FOX', 'fox', 3], ['JUMPS', 'jumps', 5], ['OVER', 'over', 4], ['THE', 'the', 3], ['LAZY', 'lazy', 4], ['DOG', 'dog', 3]]\n"
     ]
    }
   ],
   "source": [
    "print([[x.upper(), x.lower(), len(x)]for x in words])"
   ]
  },
  {
   "cell_type": "code",
   "execution_count": 49,
   "id": "973776a4",
   "metadata": {},
   "outputs": [
    {
     "name": "stdout",
     "output_type": "stream",
     "text": [
      "['quick', 'brown', 'jumps', 'over', 'lazy']\n"
     ]
    }
   ],
   "source": [
    "print([x.lower() for x in words if len(x) >= 4])"
   ]
  },
  {
   "cell_type": "markdown",
   "id": "9089700e",
   "metadata": {},
   "source": [
    "# Ref Lecture 5, 6"
   ]
  }
 ],
 "metadata": {
  "kernelspec": {
   "display_name": "Python 3",
   "language": "python",
   "name": "python3"
  },
  "language_info": {
   "codemirror_mode": {
    "name": "ipython",
    "version": 3
   },
   "file_extension": ".py",
   "mimetype": "text/x-python",
   "name": "python",
   "nbconvert_exporter": "python",
   "pygments_lexer": "ipython3",
   "version": "3.8.8"
  }
 },
 "nbformat": 4,
 "nbformat_minor": 5
}
